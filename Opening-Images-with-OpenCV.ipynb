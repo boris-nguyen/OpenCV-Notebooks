{
 "cells": [
  {
   "cell_type": "code",
   "execution_count": 2,
   "metadata": {},
   "outputs": [],
   "source": [
    "import cv2"
   ]
  },
  {
   "cell_type": "code",
   "execution_count": 3,
   "metadata": {},
   "outputs": [],
   "source": [
    "img = cv2.imread(\"../Computer-Vision-with-Python/DATA/00-puppy.jpg\")"
   ]
  },
  {
   "cell_type": "code",
   "execution_count": 4,
   "metadata": {},
   "outputs": [
    {
     "data": {
      "text/plain": [
       "array([[[78, 81, 95],\n",
       "        [80, 83, 97],\n",
       "        [81, 84, 98],\n",
       "        ...,\n",
       "        [22, 27, 25],\n",
       "        [22, 27, 25],\n",
       "        [22, 27, 25]],\n",
       "\n",
       "       [[78, 81, 95],\n",
       "        [79, 82, 96],\n",
       "        [79, 82, 96],\n",
       "        ...,\n",
       "        [22, 27, 25],\n",
       "        [22, 27, 25],\n",
       "        [22, 27, 25]],\n",
       "\n",
       "       [[78, 81, 95],\n",
       "        [77, 80, 94],\n",
       "        [77, 80, 94],\n",
       "        ...,\n",
       "        [22, 27, 25],\n",
       "        [22, 27, 25],\n",
       "        [22, 27, 25]],\n",
       "\n",
       "       ...,\n",
       "\n",
       "       [[20, 29, 19],\n",
       "        [21, 30, 20],\n",
       "        [21, 30, 20],\n",
       "        ...,\n",
       "        [22, 30, 23],\n",
       "        [23, 31, 24],\n",
       "        [23, 31, 24]],\n",
       "\n",
       "       [[21, 30, 20],\n",
       "        [21, 30, 20],\n",
       "        [20, 29, 19],\n",
       "        ...,\n",
       "        [22, 30, 23],\n",
       "        [23, 31, 24],\n",
       "        [23, 31, 24]],\n",
       "\n",
       "       [[21, 30, 20],\n",
       "        [20, 29, 19],\n",
       "        [20, 29, 19],\n",
       "        ...,\n",
       "        [22, 30, 23],\n",
       "        [23, 31, 24],\n",
       "        [23, 31, 24]]], dtype=uint8)"
      ]
     },
     "execution_count": 4,
     "metadata": {},
     "output_type": "execute_result"
    }
   ],
   "source": [
    "img"
   ]
  },
  {
   "cell_type": "code",
   "execution_count": 5,
   "metadata": {},
   "outputs": [
    {
     "data": {
      "text/plain": [
       "numpy.ndarray"
      ]
     },
     "execution_count": 5,
     "metadata": {},
     "output_type": "execute_result"
    }
   ],
   "source": [
    "type(img)"
   ]
  },
  {
   "cell_type": "code",
   "execution_count": 6,
   "metadata": {},
   "outputs": [
    {
     "data": {
      "text/plain": [
       "119"
      ]
     },
     "execution_count": 6,
     "metadata": {},
     "output_type": "execute_result"
    }
   ],
   "source": [
    "cv2.imshow(\"Puppy\", img)\n",
    "cv2.waitKey()"
   ]
  },
  {
   "cell_type": "code",
   "execution_count": 7,
   "metadata": {},
   "outputs": [
    {
     "name": "stdout",
     "output_type": "stream",
     "text": [
      "new\n"
     ]
    }
   ],
   "source": [
    "print(\"new\")"
   ]
  },
  {
   "cell_type": "code",
   "execution_count": null,
   "metadata": {},
   "outputs": [],
   "source": []
  }
 ],
 "metadata": {
  "kernelspec": {
   "display_name": "Python 3",
   "language": "python",
   "name": "python3"
  },
  "language_info": {
   "codemirror_mode": {
    "name": "ipython",
    "version": 3
   },
   "file_extension": ".py",
   "mimetype": "text/x-python",
   "name": "python",
   "nbconvert_exporter": "python",
   "pygments_lexer": "ipython3",
   "version": "3.6.6"
  }
 },
 "nbformat": 4,
 "nbformat_minor": 2
}
